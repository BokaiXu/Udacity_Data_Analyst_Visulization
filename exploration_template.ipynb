{
 "cells": [
  {
   "cell_type": "markdown",
   "metadata": {},
   "source": [
    "# Explore Flight Delay Time of BOS and SFO in 2019\n",
    "## by Bokai Xu\n",
    "\n",
    "## Preliminary Wrangling\n",
    "\n",
    "> This data set contains the flights delay reason and delay time of BOS and SFO from Jan. 2019 to Dec. 2019."
   ]
  },
  {
   "cell_type": "code",
   "execution_count": 1,
   "metadata": {},
   "outputs": [],
   "source": [
    "# import all packages and set plots to be embedded inline\n",
    "import numpy as np\n",
    "import pandas as pd\n",
    "import matplotlib.pyplot as plt\n",
    "import seaborn as sb\n",
    "\n",
    "%matplotlib inline"
   ]
  },
  {
   "cell_type": "markdown",
   "metadata": {},
   "source": [
    "> In this section I will load the data and clean the data. Below are the five reasons for flight delay. In this project only the delay time will be explored.  \n",
    "•\tAir Carrier: The cause of the cancellation or delay was due to circumstances within the airline's control (e.g. maintenance or crew problems, aircraft cleaning, baggage loading, fueling, etc.).  \n",
    "•\tExtreme Weather: Significant meteorological conditions (actual or forecasted) that, in the judgment of the carrier, delays or prevents the operation of a flight such as tornado, blizzard or hurricane.  \n",
    "•\tNational Aviation System (NAS): Delays and cancellations attributable to the national aviation system that refer to a broad set of conditions, such as non-extreme weather conditions, airport operations, heavy traffic volume, and air traffic control.  \n",
    "•\tLate-arriving aircraft: A previous flight with same aircraft arrived late, causing the present flight to depart late.  \n",
    "•\tSecurity: Delays or cancellations caused by evacuation of a terminal or concourse, re-boarding of aircraft because of security breach, inoperative screening equipment and/or long lines in excess of 29 minutes at screening areas.  "
   ]
  },
  {
   "cell_type": "code",
   "execution_count": 2,
   "metadata": {},
   "outputs": [
    {
     "data": {
      "text/html": [
       "<div>\n",
       "<style scoped>\n",
       "    .dataframe tbody tr th:only-of-type {\n",
       "        vertical-align: middle;\n",
       "    }\n",
       "\n",
       "    .dataframe tbody tr th {\n",
       "        vertical-align: top;\n",
       "    }\n",
       "\n",
       "    .dataframe thead th {\n",
       "        text-align: right;\n",
       "    }\n",
       "</style>\n",
       "<table border=\"1\" class=\"dataframe\">\n",
       "  <thead>\n",
       "    <tr style=\"text-align: right;\">\n",
       "      <th></th>\n",
       "      <th>year</th>\n",
       "      <th>month</th>\n",
       "      <th>carrier</th>\n",
       "      <th>carrier_name</th>\n",
       "      <th>airport</th>\n",
       "      <th>airport_name</th>\n",
       "      <th>arr_flights</th>\n",
       "      <th>arr_del15</th>\n",
       "      <th>carrier_ct</th>\n",
       "      <th>weather_ct</th>\n",
       "      <th>...</th>\n",
       "      <th>security_ct</th>\n",
       "      <th>late_aircraft_ct</th>\n",
       "      <th>arr_cancelled</th>\n",
       "      <th>arr_diverted</th>\n",
       "      <th>arr_delay</th>\n",
       "      <th>carrier_delay</th>\n",
       "      <th>weather_delay</th>\n",
       "      <th>nas_delay</th>\n",
       "      <th>security_delay</th>\n",
       "      <th>late_aircraft_delay</th>\n",
       "    </tr>\n",
       "  </thead>\n",
       "  <tbody>\n",
       "    <tr>\n",
       "      <th>0</th>\n",
       "      <td>2019</td>\n",
       "      <td>1</td>\n",
       "      <td>NK</td>\n",
       "      <td>Spirit Air Lines</td>\n",
       "      <td>BOS</td>\n",
       "      <td>Boston, MA: Logan International</td>\n",
       "      <td>399</td>\n",
       "      <td>70</td>\n",
       "      <td>7.84</td>\n",
       "      <td>2.06</td>\n",
       "      <td>...</td>\n",
       "      <td>0.00</td>\n",
       "      <td>17.43</td>\n",
       "      <td>19</td>\n",
       "      <td>2</td>\n",
       "      <td>6608</td>\n",
       "      <td>391</td>\n",
       "      <td>335</td>\n",
       "      <td>4663</td>\n",
       "      <td>0</td>\n",
       "      <td>1219</td>\n",
       "    </tr>\n",
       "    <tr>\n",
       "      <th>1</th>\n",
       "      <td>2019</td>\n",
       "      <td>1</td>\n",
       "      <td>OO</td>\n",
       "      <td>SkyWest Airlines Inc.</td>\n",
       "      <td>BOS</td>\n",
       "      <td>Boston, MA: Logan International</td>\n",
       "      <td>234</td>\n",
       "      <td>46</td>\n",
       "      <td>3.80</td>\n",
       "      <td>5.95</td>\n",
       "      <td>...</td>\n",
       "      <td>0.00</td>\n",
       "      <td>18.64</td>\n",
       "      <td>18</td>\n",
       "      <td>0</td>\n",
       "      <td>5702</td>\n",
       "      <td>634</td>\n",
       "      <td>1568</td>\n",
       "      <td>1378</td>\n",
       "      <td>0</td>\n",
       "      <td>2122</td>\n",
       "    </tr>\n",
       "    <tr>\n",
       "      <th>2</th>\n",
       "      <td>2019</td>\n",
       "      <td>1</td>\n",
       "      <td>UA</td>\n",
       "      <td>United Air Lines Inc.</td>\n",
       "      <td>BOS</td>\n",
       "      <td>Boston, MA: Logan International</td>\n",
       "      <td>951</td>\n",
       "      <td>225</td>\n",
       "      <td>48.57</td>\n",
       "      <td>10.02</td>\n",
       "      <td>...</td>\n",
       "      <td>0.00</td>\n",
       "      <td>62.85</td>\n",
       "      <td>36</td>\n",
       "      <td>1</td>\n",
       "      <td>22281</td>\n",
       "      <td>3622</td>\n",
       "      <td>977</td>\n",
       "      <td>10961</td>\n",
       "      <td>0</td>\n",
       "      <td>6721</td>\n",
       "    </tr>\n",
       "    <tr>\n",
       "      <th>3</th>\n",
       "      <td>2019</td>\n",
       "      <td>1</td>\n",
       "      <td>WN</td>\n",
       "      <td>Southwest Airlines Co.</td>\n",
       "      <td>BOS</td>\n",
       "      <td>Boston, MA: Logan International</td>\n",
       "      <td>739</td>\n",
       "      <td>137</td>\n",
       "      <td>48.35</td>\n",
       "      <td>8.54</td>\n",
       "      <td>...</td>\n",
       "      <td>1.44</td>\n",
       "      <td>36.50</td>\n",
       "      <td>69</td>\n",
       "      <td>5</td>\n",
       "      <td>7890</td>\n",
       "      <td>2350</td>\n",
       "      <td>588</td>\n",
       "      <td>2843</td>\n",
       "      <td>106</td>\n",
       "      <td>2003</td>\n",
       "    </tr>\n",
       "    <tr>\n",
       "      <th>4</th>\n",
       "      <td>2019</td>\n",
       "      <td>1</td>\n",
       "      <td>YV</td>\n",
       "      <td>Mesa Airlines Inc.</td>\n",
       "      <td>BOS</td>\n",
       "      <td>Boston, MA: Logan International</td>\n",
       "      <td>12</td>\n",
       "      <td>2</td>\n",
       "      <td>1.00</td>\n",
       "      <td>0.00</td>\n",
       "      <td>...</td>\n",
       "      <td>0.00</td>\n",
       "      <td>0.00</td>\n",
       "      <td>2</td>\n",
       "      <td>0</td>\n",
       "      <td>49</td>\n",
       "      <td>34</td>\n",
       "      <td>0</td>\n",
       "      <td>15</td>\n",
       "      <td>0</td>\n",
       "      <td>0</td>\n",
       "    </tr>\n",
       "  </tbody>\n",
       "</table>\n",
       "<p>5 rows × 21 columns</p>\n",
       "</div>"
      ],
      "text/plain": [
       "   year   month carrier            carrier_name airport  \\\n",
       "0  2019       1      NK        Spirit Air Lines     BOS   \n",
       "1  2019       1      OO   SkyWest Airlines Inc.     BOS   \n",
       "2  2019       1      UA   United Air Lines Inc.     BOS   \n",
       "3  2019       1      WN  Southwest Airlines Co.     BOS   \n",
       "4  2019       1      YV      Mesa Airlines Inc.     BOS   \n",
       "\n",
       "                      airport_name  arr_flights  arr_del15  carrier_ct  \\\n",
       "0  Boston, MA: Logan International          399         70        7.84   \n",
       "1  Boston, MA: Logan International          234         46        3.80   \n",
       "2  Boston, MA: Logan International          951        225       48.57   \n",
       "3  Boston, MA: Logan International          739        137       48.35   \n",
       "4  Boston, MA: Logan International           12          2        1.00   \n",
       "\n",
       "    weather_ct  ...  security_ct  late_aircraft_ct  arr_cancelled  \\\n",
       "0         2.06  ...         0.00             17.43             19   \n",
       "1         5.95  ...         0.00             18.64             18   \n",
       "2        10.02  ...         0.00             62.85             36   \n",
       "3         8.54  ...         1.44             36.50             69   \n",
       "4         0.00  ...         0.00              0.00              2   \n",
       "\n",
       "   arr_diverted   arr_delay   carrier_delay  weather_delay  nas_delay  \\\n",
       "0             2        6608             391            335       4663   \n",
       "1             0        5702             634           1568       1378   \n",
       "2             1       22281            3622            977      10961   \n",
       "3             5        7890            2350            588       2843   \n",
       "4             0          49              34              0         15   \n",
       "\n",
       "   security_delay  late_aircraft_delay  \n",
       "0               0                 1219  \n",
       "1               0                 2122  \n",
       "2               0                 6721  \n",
       "3             106                 2003  \n",
       "4               0                    0  \n",
       "\n",
       "[5 rows x 21 columns]"
      ]
     },
     "execution_count": 2,
     "metadata": {},
     "output_type": "execute_result"
    }
   ],
   "source": [
    "#Load data frame\n",
    "df=pd.read_csv('flight.csv')\n",
    "df.head()"
   ]
  },
  {
   "cell_type": "code",
   "execution_count": 3,
   "metadata": {},
   "outputs": [
    {
     "name": "stdout",
     "output_type": "stream",
     "text": [
      "<class 'pandas.core.frame.DataFrame'>\n",
      "RangeIndex: 269 entries, 0 to 268\n",
      "Data columns (total 21 columns):\n",
      " #   Column               Non-Null Count  Dtype  \n",
      "---  ------               --------------  -----  \n",
      " 0   year                 269 non-null    int64  \n",
      " 1    month               269 non-null    int64  \n",
      " 2   carrier              269 non-null    object \n",
      " 3   carrier_name         269 non-null    object \n",
      " 4   airport              269 non-null    object \n",
      " 5   airport_name         269 non-null    object \n",
      " 6   arr_flights          269 non-null    int64  \n",
      " 7   arr_del15            269 non-null    int64  \n",
      " 8   carrier_ct           269 non-null    float64\n",
      " 9    weather_ct          269 non-null    float64\n",
      " 10  nas_ct               269 non-null    float64\n",
      " 11  security_ct          269 non-null    float64\n",
      " 12  late_aircraft_ct     269 non-null    float64\n",
      " 13  arr_cancelled        269 non-null    int64  \n",
      " 14  arr_diverted         269 non-null    int64  \n",
      " 15   arr_delay           269 non-null    int64  \n",
      " 16   carrier_delay       269 non-null    int64  \n",
      " 17  weather_delay        269 non-null    int64  \n",
      " 18  nas_delay            269 non-null    int64  \n",
      " 19  security_delay       269 non-null    int64  \n",
      " 20  late_aircraft_delay  269 non-null    int64  \n",
      "dtypes: float64(5), int64(12), object(4)\n",
      "memory usage: 44.3+ KB\n"
     ]
    }
   ],
   "source": [
    "#Check whether there is NaNs\n",
    "df.info()"
   ]
  },
  {
   "cell_type": "code",
   "execution_count": 4,
   "metadata": {},
   "outputs": [
    {
     "data": {
      "text/html": [
       "<div>\n",
       "<style scoped>\n",
       "    .dataframe tbody tr th:only-of-type {\n",
       "        vertical-align: middle;\n",
       "    }\n",
       "\n",
       "    .dataframe tbody tr th {\n",
       "        vertical-align: top;\n",
       "    }\n",
       "\n",
       "    .dataframe thead th {\n",
       "        text-align: right;\n",
       "    }\n",
       "</style>\n",
       "<table border=\"1\" class=\"dataframe\">\n",
       "  <thead>\n",
       "    <tr style=\"text-align: right;\">\n",
       "      <th></th>\n",
       "      <th>month</th>\n",
       "      <th>carrier</th>\n",
       "      <th>airport</th>\n",
       "      <th>arr_del15</th>\n",
       "      <th>arr_delay</th>\n",
       "    </tr>\n",
       "  </thead>\n",
       "  <tbody>\n",
       "    <tr>\n",
       "      <th>0</th>\n",
       "      <td>1</td>\n",
       "      <td>NK</td>\n",
       "      <td>BOS</td>\n",
       "      <td>70</td>\n",
       "      <td>6608</td>\n",
       "    </tr>\n",
       "    <tr>\n",
       "      <th>1</th>\n",
       "      <td>1</td>\n",
       "      <td>OO</td>\n",
       "      <td>BOS</td>\n",
       "      <td>46</td>\n",
       "      <td>5702</td>\n",
       "    </tr>\n",
       "    <tr>\n",
       "      <th>2</th>\n",
       "      <td>1</td>\n",
       "      <td>UA</td>\n",
       "      <td>BOS</td>\n",
       "      <td>225</td>\n",
       "      <td>22281</td>\n",
       "    </tr>\n",
       "    <tr>\n",
       "      <th>3</th>\n",
       "      <td>1</td>\n",
       "      <td>WN</td>\n",
       "      <td>BOS</td>\n",
       "      <td>137</td>\n",
       "      <td>7890</td>\n",
       "    </tr>\n",
       "    <tr>\n",
       "      <th>4</th>\n",
       "      <td>1</td>\n",
       "      <td>YV</td>\n",
       "      <td>BOS</td>\n",
       "      <td>2</td>\n",
       "      <td>49</td>\n",
       "    </tr>\n",
       "  </tbody>\n",
       "</table>\n",
       "</div>"
      ],
      "text/plain": [
       "    month carrier airport  arr_del15   arr_delay\n",
       "0       1      NK     BOS         70        6608\n",
       "1       1      OO     BOS         46        5702\n",
       "2       1      UA     BOS        225       22281\n",
       "3       1      WN     BOS        137        7890\n",
       "4       1      YV     BOS          2          49"
      ]
     },
     "execution_count": 4,
     "metadata": {},
     "output_type": "execute_result"
    }
   ],
   "source": [
    "# Drop unneeded columns\n",
    "df_clean=df.copy()\n",
    "df_clean=df_clean[[' month', 'carrier','airport','arr_del15',' arr_delay']]\n",
    "df_clean.head()"
   ]
  },
  {
   "cell_type": "markdown",
   "metadata": {},
   "source": [
    "### What is the structure of your dataset?\n",
    "\n",
    "> This dataset has 269 rows and 5 columns, including month, carrier, airport, times of delay(arr_del15) and delay time(arr_delay).\n",
    "\n",
    "### What is/are the main feature(s) of interest in your dataset?\n",
    "\n",
    "> I am interested in which is there some difference of the delay time between BSO and SFO.\n",
    "\n",
    "### What features in the dataset do you think will help support your investigation into your feature(s) of interest?\n",
    "\n",
    "> Month, average delay time(need to calculate by myself)."
   ]
  },
  {
   "cell_type": "markdown",
   "metadata": {},
   "source": [
    "## Univariate Exploration\n",
    "\n",
    "> In this section, investigate distributions of individual variables. If\n",
    "you see unusual points or outliers, take a deeper look to clean things up\n",
    "and prepare yourself to look at relationships between variables."
   ]
  },
  {
   "cell_type": "code",
   "execution_count": 5,
   "metadata": {},
   "outputs": [],
   "source": [
    "#Change airport column to category type\n",
    "port= ['BOS','SFO']\n",
    "port_type= pd.api.types.CategoricalDtype(categories= port)\n",
    "df_clean['airport']= df_clean['airport'].astype(port_type)"
   ]
  },
  {
   "cell_type": "code",
   "execution_count": 6,
   "metadata": {},
   "outputs": [],
   "source": [
    "#Change month column to category type\n",
    "month= [1, 2, 3, 4, 5, 6, 7, 8, 9, 10, 11, 12]\n",
    "month_type= pd.api.types.CategoricalDtype(ordered=True, categories= month)\n",
    "df_clean[' month']= df_clean[' month'].astype(month_type)"
   ]
  },
  {
   "cell_type": "code",
   "execution_count": 7,
   "metadata": {},
   "outputs": [
    {
     "name": "stdout",
     "output_type": "stream",
     "text": [
      "<class 'pandas.core.frame.DataFrame'>\n",
      "RangeIndex: 269 entries, 0 to 268\n",
      "Data columns (total 5 columns):\n",
      " #   Column      Non-Null Count  Dtype   \n",
      "---  ------      --------------  -----   \n",
      " 0    month      269 non-null    category\n",
      " 1   carrier     269 non-null    object  \n",
      " 2   airport     269 non-null    category\n",
      " 3   arr_del15   269 non-null    int64   \n",
      " 4    arr_delay  269 non-null    int64   \n",
      "dtypes: category(2), int64(2), object(1)\n",
      "memory usage: 7.5+ KB\n"
     ]
    }
   ],
   "source": [
    "#Check whether the type is changed\n",
    "df_clean.info()"
   ]
  },
  {
   "cell_type": "code",
   "execution_count": 8,
   "metadata": {},
   "outputs": [],
   "source": [
    "#Add average delay time column\n",
    "df_clean['delay_avg']= df_clean[' arr_delay']/df_clean['arr_del15']\n",
    "df_clean.dropna(inplace=True)"
   ]
  },
  {
   "cell_type": "code",
   "execution_count": 9,
   "metadata": {},
   "outputs": [
    {
     "data": {
      "text/html": [
       "<div>\n",
       "<style scoped>\n",
       "    .dataframe tbody tr th:only-of-type {\n",
       "        vertical-align: middle;\n",
       "    }\n",
       "\n",
       "    .dataframe tbody tr th {\n",
       "        vertical-align: top;\n",
       "    }\n",
       "\n",
       "    .dataframe thead th {\n",
       "        text-align: right;\n",
       "    }\n",
       "</style>\n",
       "<table border=\"1\" class=\"dataframe\">\n",
       "  <thead>\n",
       "    <tr style=\"text-align: right;\">\n",
       "      <th></th>\n",
       "      <th>arr_del15</th>\n",
       "      <th>arr_delay</th>\n",
       "      <th>delay_avg</th>\n",
       "    </tr>\n",
       "  </thead>\n",
       "  <tbody>\n",
       "    <tr>\n",
       "      <th>count</th>\n",
       "      <td>266.000000</td>\n",
       "      <td>266.000000</td>\n",
       "      <td>266.000000</td>\n",
       "    </tr>\n",
       "    <tr>\n",
       "      <th>mean</th>\n",
       "      <td>295.917293</td>\n",
       "      <td>23024.150376</td>\n",
       "      <td>73.412007</td>\n",
       "    </tr>\n",
       "    <tr>\n",
       "      <th>std</th>\n",
       "      <td>350.292633</td>\n",
       "      <td>30605.392567</td>\n",
       "      <td>60.550731</td>\n",
       "    </tr>\n",
       "    <tr>\n",
       "      <th>min</th>\n",
       "      <td>1.000000</td>\n",
       "      <td>18.000000</td>\n",
       "      <td>18.000000</td>\n",
       "    </tr>\n",
       "    <tr>\n",
       "      <th>25%</th>\n",
       "      <td>42.000000</td>\n",
       "      <td>2628.500000</td>\n",
       "      <td>58.650131</td>\n",
       "    </tr>\n",
       "    <tr>\n",
       "      <th>50%</th>\n",
       "      <td>177.000000</td>\n",
       "      <td>11943.500000</td>\n",
       "      <td>69.820806</td>\n",
       "    </tr>\n",
       "    <tr>\n",
       "      <th>75%</th>\n",
       "      <td>397.500000</td>\n",
       "      <td>27521.500000</td>\n",
       "      <td>81.205273</td>\n",
       "    </tr>\n",
       "    <tr>\n",
       "      <th>max</th>\n",
       "      <td>1499.000000</td>\n",
       "      <td>160383.000000</td>\n",
       "      <td>1002.000000</td>\n",
       "    </tr>\n",
       "  </tbody>\n",
       "</table>\n",
       "</div>"
      ],
      "text/plain": [
       "         arr_del15      arr_delay    delay_avg\n",
       "count   266.000000     266.000000   266.000000\n",
       "mean    295.917293   23024.150376    73.412007\n",
       "std     350.292633   30605.392567    60.550731\n",
       "min       1.000000      18.000000    18.000000\n",
       "25%      42.000000    2628.500000    58.650131\n",
       "50%     177.000000   11943.500000    69.820806\n",
       "75%     397.500000   27521.500000    81.205273\n",
       "max    1499.000000  160383.000000  1002.000000"
      ]
     },
     "execution_count": 9,
     "metadata": {},
     "output_type": "execute_result"
    }
   ],
   "source": [
    "#Check basic statistics\n",
    "df_clean.describe()"
   ]
  },
  {
   "cell_type": "code",
   "execution_count": 10,
   "metadata": {},
   "outputs": [
    {
     "data": {
      "image/png": "[encoded data removed]",
      "text/plain": [
       "<Figure size 1152x432 with 2 Axes>"
      ]
     },
     "metadata": {
      "needs_background": "light"
     },
     "output_type": "display_data"
    }
   ],
   "source": [
    "#I have two categorical varibales: carrier_name and year\n",
    "#Just plot them to see how many rows each variables have\n",
    "#It is not very meaningful\n",
    "plt.figure(figsize= (16, 6))\n",
    "plt.subplot(1,2,1)\n",
    "sb.countplot(data= df_clean,y= 'airport',color= 'darkcyan')\n",
    "plt.title('Countplot of airport column');\n",
    "plt.subplot(1,2,2)\n",
    "sb.countplot(data= df_clean,x= ' month', color= 'darkcyan')\n",
    "plt.title('Countplot of month column');"
   ]
  },
  {
   "cell_type": "markdown",
   "metadata": {},
   "source": [
    "These plots are not very meaningful. They show that how many rows in the table each airport and each month has."
   ]
  },
  {
   "cell_type": "code",
   "execution_count": 11,
   "metadata": {},
   "outputs": [
    {
     "data": {
      "text/html": [
       "<div>\n",
       "<style scoped>\n",
       "    .dataframe tbody tr th:only-of-type {\n",
       "        vertical-align: middle;\n",
       "    }\n",
       "\n",
       "    .dataframe tbody tr th {\n",
       "        vertical-align: top;\n",
       "    }\n",
       "\n",
       "    .dataframe thead th {\n",
       "        text-align: right;\n",
       "    }\n",
       "</style>\n",
       "<table border=\"1\" class=\"dataframe\">\n",
       "  <thead>\n",
       "    <tr style=\"text-align: right;\">\n",
       "      <th></th>\n",
       "      <th>month</th>\n",
       "      <th>carrier</th>\n",
       "      <th>airport</th>\n",
       "      <th>arr_del15</th>\n",
       "      <th>arr_delay</th>\n",
       "      <th>delay_avg</th>\n",
       "    </tr>\n",
       "  </thead>\n",
       "  <tbody>\n",
       "    <tr>\n",
       "      <th>0</th>\n",
       "      <td>1</td>\n",
       "      <td>NK</td>\n",
       "      <td>BOS</td>\n",
       "      <td>70</td>\n",
       "      <td>6608</td>\n",
       "      <td>94.400000</td>\n",
       "    </tr>\n",
       "    <tr>\n",
       "      <th>1</th>\n",
       "      <td>1</td>\n",
       "      <td>OO</td>\n",
       "      <td>BOS</td>\n",
       "      <td>46</td>\n",
       "      <td>5702</td>\n",
       "      <td>123.956522</td>\n",
       "    </tr>\n",
       "    <tr>\n",
       "      <th>2</th>\n",
       "      <td>1</td>\n",
       "      <td>UA</td>\n",
       "      <td>BOS</td>\n",
       "      <td>225</td>\n",
       "      <td>22281</td>\n",
       "      <td>99.026667</td>\n",
       "    </tr>\n",
       "    <tr>\n",
       "      <th>3</th>\n",
       "      <td>1</td>\n",
       "      <td>WN</td>\n",
       "      <td>BOS</td>\n",
       "      <td>137</td>\n",
       "      <td>7890</td>\n",
       "      <td>57.591241</td>\n",
       "    </tr>\n",
       "    <tr>\n",
       "      <th>4</th>\n",
       "      <td>1</td>\n",
       "      <td>YV</td>\n",
       "      <td>BOS</td>\n",
       "      <td>2</td>\n",
       "      <td>49</td>\n",
       "      <td>24.500000</td>\n",
       "    </tr>\n",
       "  </tbody>\n",
       "</table>\n",
       "</div>"
      ],
      "text/plain": [
       "   month carrier airport  arr_del15   arr_delay   delay_avg\n",
       "0      1      NK     BOS         70        6608   94.400000\n",
       "1      1      OO     BOS         46        5702  123.956522\n",
       "2      1      UA     BOS        225       22281   99.026667\n",
       "3      1      WN     BOS        137        7890   57.591241\n",
       "4      1      YV     BOS          2          49   24.500000"
      ]
     },
     "execution_count": 11,
     "metadata": {},
     "output_type": "execute_result"
    }
   ],
   "source": [
    "df_clean.head()"
   ]
  },
  {
   "cell_type": "code",
   "execution_count": 12,
   "metadata": {},
   "outputs": [
    {
     "data": {
      "image/png": "[encoded data removed]",
      "text/plain": [
       "<Figure size 1152x720 with 1 Axes>"
      ]
     },
     "metadata": {
      "needs_background": "light"
     },
     "output_type": "display_data"
    }
   ],
   "source": [
    "#Plot histograms\n",
    "plt.figure(figsize= (16,10))\n",
    "plt.hist(data= df_clean, x= 'delay_avg', bins= 100)\n",
    "plt.title('Histograms of average flight delay time')\n",
    "plt.xlabel('average flight delay time')\n",
    "plt.ylabel('count');"
   ]
  },
  {
   "cell_type": "code",
   "execution_count": 13,
   "metadata": {},
   "outputs": [
    {
     "data": {
      "image/png": "[encoded data removed]",
      "text/plain": [
       "<Figure size 1152x720 with 1 Axes>"
      ]
     },
     "metadata": {
      "needs_background": "light"
     },
     "output_type": "display_data"
    }
   ],
   "source": [
    "#Plot histograms\n",
    "plt.figure(figsize= (16,10))\n",
    "plt.hist(data= df_clean, x= 'delay_avg', bins= 100)\n",
    "plt.xlim(right=200)\n",
    "plt.title('Histograms of average flight delay time')\n",
    "plt.xlabel('average flight delay time')\n",
    "plt.ylabel('count');"
   ]
  },
  {
   "cell_type": "markdown",
   "metadata": {},
   "source": [
    "From this plot it is clear to see outliers at around 1000. This value could be dropped, however, I will keep it right now."
   ]
  },
  {
   "cell_type": "markdown",
   "metadata": {},
   "source": [
    "### Discuss the distribution(s) of your variable(s) of interest. Were there any unusual points? Did you need to perform any transformations?\n",
    "\n",
    "> From these plots we cannot get some useful informations. We need to plot more variables together to see whether we can find some trends.\n",
    "\n",
    "### Of the features you investigated, were there any unusual distributions? Did you perform any operations on the data to tidy, adjust, or change the form of the data? If so, why did you do this?\n",
    "\n",
    "> For the histogram I found some outliers. I keep it right now and in later analysis I might drop them."
   ]
  },
  {
   "cell_type": "markdown",
   "metadata": {},
   "source": [
    "## Bivariate Exploration\n",
    "\n",
    "> In this section, investigate relationships between pairs of variables in your\n",
    "data. Make sure the variables that you cover here have been introduced in some\n",
    "fashion in the previous section (univariate exploration)."
   ]
  },
  {
   "cell_type": "code",
   "execution_count": 15,
   "metadata": {},
   "outputs": [
    {
     "data": {
      "image/png": "[encoded data removed]",
      "text/plain": [
       "<Figure size 864x432 with 2 Axes>"
      ]
     },
     "metadata": {
      "needs_background": "light"
     },
     "output_type": "display_data"
    }
   ],
   "source": [
    "#Plot histogram of each carrier's delay time\n",
    "g=sb.FacetGrid(data=df_clean, col='airport',size=6)\n",
    "g.map(plt.hist,'delay_avg',bins=50)\n",
    "plt.xlim(right=200)\n",
    "g.axes[0][0].set_xlabel('average flight delay time')\n",
    "g.axes[0][1].set_xlabel('average flight delay time')\n",
    "g.axes[0][0].set_ylabel('count')\n",
    "g.fig.subplots_adjust(top=0.9) \n",
    "g.fig.suptitle('Histogram of average flight delay time of BOS and SFO');"
   ]
  },
  {
   "cell_type": "markdown",
   "metadata": {},
   "source": [
    "From this plot it is obvious to see that the average delay time of SFO is more distributed than BOS."
   ]
  },
  {
   "cell_type": "code",
   "execution_count": 16,
   "metadata": {},
   "outputs": [
    {
     "data": {
      "image/png": "[encoded data removed]",
      "text/plain": [
       "<Figure size 648x864 with 12 Axes>"
      ]
     },
     "metadata": {
      "needs_background": "light"
     },
     "output_type": "display_data"
    }
   ],
   "source": [
    "#Plot histogram of each carrier's delay time\n",
    "g=sb.FacetGrid(data=df_clean, col=' month',col_wrap=3)\n",
    "g.map(plt.hist,'delay_avg',bins=20)\n",
    "g.fig.subplots_adjust(top=0.9) \n",
    "g.fig.suptitle('Histogram of average delay flight time monthly')\n",
    "g.axes[9].set_xlabel('average delay(minute)')\n",
    "g.axes[10].set_xlabel('average delay(minute)')\n",
    "g.axes[11].set_xlabel('average delay(minute)')\n",
    "plt.xlim(right=150);"
   ]
  },
  {
   "cell_type": "markdown",
   "metadata": {},
   "source": [
    "From these histograms of average delay time of each month we could see the average delay time most lie in 50 to 100 minutes."
   ]
  },
  {
   "cell_type": "markdown",
   "metadata": {},
   "source": [
    "### Talk about some of the relationships you observed in this part of the investigation. How did the feature(s) of interest vary with other features in the dataset?\n",
    "\n",
    "> In this part I plot two histograms. The first one is average delay time of BOS and SFO. It is clear to see that SFO has a more distributed average delay time. The second one is average delay time of each month in 2019, it is clear to see that the average delay time mostly lie in 50 to 100 minutes.\n",
    "\n",
    "### Did you observe any interesting relationships between the other features (not the main feature(s) of interest)?\n",
    "\n",
    "> Unfortunately I did not observe some other trends."
   ]
  },
  {
   "cell_type": "markdown",
   "metadata": {},
   "source": [
    "## Multivariate Exploration\n",
    "\n",
    "> Create plots of three or more variables to investigate your data even\n",
    "further. Make sure that your investigations are justified, and follow from\n",
    "your work in the previous sections."
   ]
  },
  {
   "cell_type": "code",
   "execution_count": 17,
   "metadata": {},
   "outputs": [
    {
     "data": {
      "image/png": "[encoded data removed]",
      "text/plain": [
       "<Figure size 432x288 with 1 Axes>"
      ]
     },
     "metadata": {
      "needs_background": "light"
     },
     "output_type": "display_data"
    }
   ],
   "source": [
    "sb.boxplot(data=df_clean,x=' month',y='delay_avg', hue='airport');"
   ]
  },
  {
   "cell_type": "markdown",
   "metadata": {},
   "source": [
    "We could see clearly the outlier, I am going to drop it and replot the chart."
   ]
  },
  {
   "cell_type": "code",
   "execution_count": 18,
   "metadata": {},
   "outputs": [
    {
     "data": {
      "image/png": "[encoded data removed]",
      "text/plain": [
       "<Figure size 1440x720 with 1 Axes>"
      ]
     },
     "metadata": {
      "needs_background": "light"
     },
     "output_type": "display_data"
    }
   ],
   "source": [
    "plt.figure(figsize=(20,10))\n",
    "sb.boxplot(data=df_clean,x=' month',y='delay_avg', hue='airport')\n",
    "plt.ylim(top=200)\n",
    "plt.title('Boxplot of average flight delay time each month bewteen BOS and SFO in 2019')\n",
    "plt.ylabel('delay_avg (minutes)');"
   ]
  },
  {
   "cell_type": "markdown",
   "metadata": {},
   "source": [
    "From this chart we could see in most month BOS and SFO have similar average flight delay time. In September, the average flight delay time of SFO is obviously higher than the one of BOS. In June, the average flight delay time of SFO is obviously lower than the one of BOS."
   ]
  },
  {
   "cell_type": "code",
   "execution_count": 19,
   "metadata": {},
   "outputs": [
    {
     "data": {
      "image/png": "[encoded data removed]",
      "text/plain": [
       "<Figure size 1736x288 with 24 Axes>"
      ]
     },
     "metadata": {
      "needs_background": "light"
     },
     "output_type": "display_data"
    }
   ],
   "source": [
    "g=sb.FacetGrid(data=df_clean,col=' month',row='airport',height=2, margin_titles=True)\n",
    "g=g.map(plt.scatter,'delay_avg','arr_del15')\n",
    "g.fig.subplots_adjust(top=0.8) \n",
    "g.fig.suptitle('Plot between average flight delay time and fime of filght delay monthly in BOS and SFO')\n",
    "for i in range(12):\n",
    "    g.axes[1][i].set_xlabel('average delay(minute)')\n",
    "g.axes[0][0].set_ylabel('time of flight delay')\n",
    "g.axes[1][0].set_ylabel('time of flight delay')\n",
    "plt.xlim(right=200)\n",
    "g.add_legend();"
   ]
  },
  {
   "cell_type": "markdown",
   "metadata": {},
   "source": [
    "From this plot it seems that the higher the times of delay happen, the higher the average flight delay time. This is true in both BOS and SFO."
   ]
  },
  {
   "cell_type": "markdown",
   "metadata": {},
   "source": [
    "### Talk about some of the relationships you observed in this part of the investigation. Were there features that strengthened each other in terms of looking at your feature(s) of interest?\n",
    "\n",
    "> In this part firstly I made a boxplot that compares the average flight delay time between BOS and SFO monthly. It shows the average flight delay time of BOS and SFO are similar alghough in June and September there is some major difference. Then I plot the average flight delay time and the time of filght delay monthly, it is clear to see a positive relation.\n",
    "\n",
    "### Were there any interesting or surprising interactions between features?\n",
    "\n",
    "> Unfortunately, there is no surprising interactions. The interaction between average delay flight time and time of delay flights are tuitive and the plot also support this positive relation."
   ]
  }
 ],
 "metadata": {
  "kernelspec": {
   "display_name": "Python 3",
   "language": "python",
   "name": "python3"
  },
  "language_info": {
   "codemirror_mode": {
    "name": "ipython",
    "version": 3
   },
   "file_extension": ".py",
   "mimetype": "text/x-python",
   "name": "python",
   "nbconvert_exporter": "python",
   "pygments_lexer": "ipython3",
   "version": "3.8.5"
  }
 },
 "nbformat": 4,
 "nbformat_minor": 2
}
